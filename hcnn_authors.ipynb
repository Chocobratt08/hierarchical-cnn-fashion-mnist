{
 "cells": [
  {
   "cell_type": "code",
   "execution_count": 1,
   "metadata": {},
   "outputs": [
    {
     "name": "stderr",
     "output_type": "stream",
     "text": [
      "Using TensorFlow backend.\n"
     ]
    }
   ],
   "source": [
    "import keras\n",
    "import numpy as np\n",
    "import pickle\n",
    "import os\n",
    "from keras.models import Model\n",
    "from keras.layers import Dense, Dropout, Activation, Flatten\n",
    "from keras.layers import Conv2D, MaxPooling2D, Input\n",
    "from keras.initializers import he_normal\n",
    "from keras import optimizers\n",
    "from keras.callbacks import LearningRateScheduler, TensorBoard\n",
    "from keras.layers.normalization import BatchNormalization\n",
    "from keras.utils.data_utils import get_file\n",
    "from keras import backend as K"
   ]
  },
  {
   "cell_type": "code",
   "execution_count": 2,
   "metadata": {},
   "outputs": [],
   "source": [
    "#-----data dir----\n",
    "data_dir = \"./data\"\n",
    "#-----------------"
   ]
  },
  {
   "cell_type": "code",
   "execution_count": 3,
   "metadata": {},
   "outputs": [],
   "source": [
    "def scheduler(epoch):\n",
    "  learning_rate_init = 0.001\n",
    "  if epoch > 55:\n",
    "    learning_rate_init = 0.0002\n",
    "  if epoch > 70:\n",
    "    learning_rate_init = 0.00005\n",
    "  return learning_rate_init\n",
    "\n",
    "def unpickle(filename):\n",
    "  file = os.path.join(data_dir, filename)\n",
    "  with open(file, 'rb') as fo:\n",
    "    dict = pickle.load(fo, encoding='bytes')\n",
    "  return dict\n",
    "\n",
    "class LossWeightsModifier(keras.callbacks.Callback):\n",
    "  def __init__(self, alpha, beta, gamma):\n",
    "    self.alpha = alpha\n",
    "    self.beta = beta\n",
    "    self.gamma = gamma\n",
    "    # customize your behavior\n",
    "  def on_epoch_end(self, epoch, logs={}):\n",
    "    if epoch == 13:\n",
    "      K.set_value(self.alpha, 0.1)\n",
    "      K.set_value(self.beta, 0.8)\n",
    "      K.set_value(self.gamma, 0.1)\n",
    "    if epoch == 23:\n",
    "      K.set_value(self.alpha, 0.1)\n",
    "      K.set_value(self.beta, 0.2)\n",
    "      K.set_value(self.gamma, 0.7)\n",
    "    if epoch == 33:\n",
    "      K.set_value(self.alpha, 0)\n",
    "      K.set_value(self.beta, 0)\n",
    "      K.set_value(self.gamma, 1)\n"
   ]
  },
  {
   "cell_type": "code",
   "execution_count": 4,
   "metadata": {},
   "outputs": [],
   "source": [
    "#-------- dimensions ---------\n",
    "height, width = 32, 32\n",
    "channel = 3\n",
    "if K.image_data_format() == 'channels_first':\n",
    "    input_shape = (channel, height, width)\n",
    "else:\n",
    "    input_shape = (height, width, channel)\n",
    "#-----------------------------"
   ]
  },
  {
   "cell_type": "code",
   "execution_count": 5,
   "metadata": {},
   "outputs": [],
   "source": [
    "train_size = 50000\n",
    "test_size = 10000\n",
    "\n",
    "#--- coarse 1 classes ---\n",
    "coarse1_classes = 8\n",
    "#--- coarse 2 classes ---\n",
    "coarse2_classes = 20\n",
    "#--- fine classes ---\n",
    "num_classes  = 100\n",
    "\n",
    "batch_size   = 128\n",
    "epochs       = 80"
   ]
  },
  {
   "cell_type": "code",
   "execution_count": 6,
   "metadata": {},
   "outputs": [],
   "source": [
    "#--- file paths ---\n",
    "log_filepath = './tb_log_vgg16_hierarchy_dynamic/'\n",
    "weights_store_filepath = './vgg16_weights_hierarchy_dynamic/'\n",
    "retrain_id = '101'\n",
    "model_name = 'weights_vgg16_dynamic_cifar_100_'+retrain_id+'.h5'\n",
    "model_path = os.path.join(weights_store_filepath, model_name)"
   ]
  },
  {
   "cell_type": "code",
   "execution_count": 7,
   "metadata": {},
   "outputs": [
    {
     "name": "stdout",
     "output_type": "stream",
     "text": [
      "Downloading data from https://github.com/fchollet/deep-learning-models/releases/download/v0.1/vgg16_weights_tf_dim_ordering_tf_kernels.h5\n",
      "553467904/553467096 [==============================] - 525s 1us/step\n"
     ]
    }
   ],
   "source": [
    "#----------get VGG16 pre-trained weights--------\n",
    "WEIGHTS_PATH = 'https://github.com/fchollet/deep-learning-models/releases/download/v0.1/vgg16_weights_tf_dim_ordering_tf_kernels.h5'\n",
    "weights_path = get_file('vgg16_weights_tf_dim_ordering_tf_kernels.h5',\n",
    "                         WEIGHTS_PATH,\n",
    "                         cache_subdir='models')"
   ]
  },
  {
   "cell_type": "code",
   "execution_count": 9,
   "metadata": {},
   "outputs": [],
   "source": [
    "#---------get data---------\n",
    "meta = unpickle(\"meta\")\n",
    "test = unpickle(\"test\")\n",
    "train = unpickle(\"train\")"
   ]
  },
  {
   "cell_type": "code",
   "execution_count": 10,
   "metadata": {},
   "outputs": [],
   "source": [
    "#-------------------- data loading ----------------------\n",
    "x_train = np.reshape(train[b'data'], (train_size, channel, height, width)).transpose(0, 2, 3, 1).astype(\"float32\")\n",
    "x_train = (x_train-np.mean(x_train)) / np.std(x_train)\n",
    "\n",
    "x_test = np.reshape(test[b'data'], (test_size, channel, height, width)).transpose(0, 2, 3, 1).astype(\"float32\")\n",
    "x_test = (x_test-np.mean(x_test)) / np.std(x_test)\n",
    "\n",
    "y_train = np.zeros((train_size, num_classes)).astype('float32')\n",
    "y_c2_train = np.zeros((train_size, coarse2_classes)).astype('float32')\n",
    "\n",
    "y_test = np.zeros((test_size, num_classes)).astype('float32')\n",
    "y_c2_test = np.zeros((test_size, coarse2_classes)).astype('float32')\n",
    "\n",
    "y_train[np.arange(train_size), train[b'fine_labels']] = 1\n",
    "y_c2_train[np.arange(train_size), train[b'coarse_labels']] = 1\n",
    "\n",
    "y_test[np.arange(test_size), test[b'fine_labels']] = 1\n",
    "y_c2_test[np.arange(test_size), test[b'coarse_labels']] = 1\n",
    "\n",
    "c2_to_f = np.zeros((coarse2_classes, num_classes)).astype('float32')\n",
    "fine_unique, fine_unique_indices = np.unique(train[b'fine_labels'], return_index=True)\n",
    "for i in fine_unique_indices:\n",
    "  c2_to_f[train[b'coarse_labels'][i]][train[b'fine_labels'][i]] = 1\n",
    "\n",
    "parent_c2 = {\n",
    "  0:0, 1:0, 2:1, 3:2, \n",
    "  4:1, 5:2, 6:2, 7:3, \n",
    "  8:4, 9:5, 10:5, 11:4, \n",
    "  12:4, 13:3, 14:6, 15:4, \n",
    "  16:4, 17:1, 18:7, 19:7\n",
    "}\n",
    "\n",
    "y_c1_train = np.zeros((y_c2_train.shape[0], coarse1_classes)).astype(\"float32\")\n",
    "y_c1_test = np.zeros((y_c2_test.shape[0], coarse1_classes)).astype(\"float32\")\n",
    "for i in range(y_c1_train.shape[0]):\n",
    "  y_c1_train[i][parent_c2[np.argmax(y_c2_train[i])]] = 1.0\n",
    "for i in range(y_c1_test.shape[0]):\n",
    "  y_c1_test[i][parent_c2[np.argmax(y_c2_test[i])]] = 1.0\n",
    "\n",
    "del(train)\n",
    "del(test)\n",
    "#---------------------------"
   ]
  },
  {
   "cell_type": "code",
   "execution_count": 12,
   "metadata": {},
   "outputs": [
    {
     "name": "stdout",
     "output_type": "stream",
     "text": [
      "x_train shape:  (50000, 32, 32, 3)\n",
      "x_test shape:  (10000, 32, 32, 3)\n",
      "y_train shape:  (50000, 100)\n",
      "y_test shape:  (10000, 100)\n",
      "y_c1_train shape:  (50000, 8)\n",
      "y_c1_test shape:  (10000, 8)\n",
      "y_c2_train shape:  (50000, 20)\n",
      "y_c2_test shape:  (10000, 20)\n"
     ]
    }
   ],
   "source": [
    "print(\"x_train shape: \", x_train.shape)\n",
    "print(\"x_test shape: \", x_test.shape)\n",
    "\n",
    "print(\"y_train shape: \", y_train.shape)\n",
    "print(\"y_test shape: \", y_test.shape)\n",
    "print(\"y_c1_train shape: \", y_c1_train.shape)\n",
    "print(\"y_c1_test shape: \", y_c1_test.shape)\n",
    "print(\"y_c2_train shape: \", y_c2_train.shape)\n",
    "print(\"y_c2_test shape: \", y_c2_test.shape)"
   ]
  },
  {
   "cell_type": "code",
   "execution_count": 13,
   "metadata": {},
   "outputs": [
    {
     "data": {
      "text/plain": [
       "array([0., 0., 0., 0., 0., 1., 0., 0.], dtype=float32)"
      ]
     },
     "execution_count": 13,
     "metadata": {},
     "output_type": "execute_result"
    }
   ],
   "source": [
    "y_c1_test[0]"
   ]
  }
 ],
 "metadata": {
  "kernelspec": {
   "display_name": "Python 3",
   "language": "python",
   "name": "python3"
  },
  "language_info": {
   "codemirror_mode": {
    "name": "ipython",
    "version": 3
   },
   "file_extension": ".py",
   "mimetype": "text/x-python",
   "name": "python",
   "nbconvert_exporter": "python",
   "pygments_lexer": "ipython3",
   "version": "3.6.9"
  }
 },
 "nbformat": 4,
 "nbformat_minor": 4
}
